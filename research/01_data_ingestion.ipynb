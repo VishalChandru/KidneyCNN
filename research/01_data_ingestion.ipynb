{
 "cells": [
  {
   "cell_type": "code",
   "execution_count": 58,
   "metadata": {},
   "outputs": [],
   "source": [
    "import os"
   ]
  },
  {
   "cell_type": "code",
   "execution_count": 59,
   "metadata": {},
   "outputs": [
    {
     "data": {
      "text/plain": [
       "'/Users/vishalchandru/MacBook/KidneyCNN'"
      ]
     },
     "execution_count": 59,
     "metadata": {},
     "output_type": "execute_result"
    }
   ],
   "source": [
    "%pwd"
   ]
  },
  {
   "cell_type": "code",
   "execution_count": 60,
   "metadata": {},
   "outputs": [],
   "source": [
    "from dataclasses import dataclass\n",
    "from pathlib import Path\n",
    "\n",
    "@dataclass(frozen=True)\n",
    "class DataIngestionConfig:\n",
    "    root_dir: Path\n",
    "    source_url: str\n",
    "    local_data_file: Path\n",
    "    unzip_dir: Path"
   ]
  },
  {
   "cell_type": "code",
   "execution_count": 61,
   "metadata": {},
   "outputs": [],
   "source": [
    "from src.Kidney_CTScan.utils.utility import read_yaml,create_directories\n",
    "from src.Kidney_CTScan.constants import *"
   ]
  },
  {
   "cell_type": "code",
   "execution_count": 62,
   "metadata": {},
   "outputs": [],
   "source": [
    "class ConfigurationManager():\n",
    "    def __init__(self,\n",
    "                 config_filepath = CONFIG_FILE_PATH,\n",
    "                 params_filepath = PARAM_FILE_PATH):\n",
    "        \n",
    "        self.config = read_yaml(config_filepath)\n",
    "        self.params = read_yaml(params_filepath)\n",
    "\n",
    "        create_directories([self.config.artifacts_root])\n",
    "\n",
    "    def get_data_ingestion_config(self) -> DataIngestionConfig:\n",
    "        config = self.config.data_ingestion\n",
    "\n",
    "        create_directories([config.root_dir])\n",
    "\n",
    "        data_ingestion_config = DataIngestionConfig(\n",
    "                                    root_dir = config.root_dir,\n",
    "                                    source_url = config.source_url,\n",
    "                                    local_data_file =  config.local_data_file,\n",
    "                                    unzip_dir = config.unzip_dir\n",
    "                                    )\n",
    "        return data_ingestion_config"
   ]
  },
  {
   "cell_type": "code",
   "execution_count": 63,
   "metadata": {},
   "outputs": [],
   "source": [
    "import os\n",
    "import zipfile\n",
    "import sys\n",
    "import gdown\n",
    "from src.Kidney_CTScan import logger\n",
    "from src.Kidney_CTScan.utils.utility import get_size\n",
    "from src.Kidney_CTScan import CustomException"
   ]
  },
  {
   "cell_type": "code",
   "execution_count": 64,
   "metadata": {},
   "outputs": [],
   "source": [
    "class DataIngestion:\n",
    "    def __init__(self, config:DataIngestionConfig):\n",
    "        self.config = config\n",
    "    \n",
    "    def download_data(self) -> str:\n",
    "        try:\n",
    "            dataset_url = self.config.source_url\n",
    "            zip_download_dir = self.config.local_data_file\n",
    "            os.makedirs(self.config.root_dir, exist_ok=True)\n",
    "            logger.info(f'Downloading dataset from {dataset_url} to local directory {zip_download_dir}')\n",
    "\n",
    "            file_id = dataset_url.split('/')[-2]\n",
    "            prefix = 'https://drive.google.com/uc?/export=download&id='\n",
    "            gdown.download(prefix+file_id, zip_download_dir)\n",
    "            logger.info(f'Downloaded dataset from {dataset_url} to local directory {zip_download_dir}')\n",
    "\n",
    "        except Exception as e:\n",
    "            raise CustomException(e,sys)\n",
    "    \n",
    "    def extract_zip_file(self):\n",
    "        unzip_path = self.config.unzip_dir\n",
    "        os.makedirs(unzip_path,exist_ok=True)\n",
    "        with zipfile.ZipFile(self.config.local_data_file,\"r\") as f:\n",
    "            f.extractall(unzip_path)"
   ]
  },
  {
   "cell_type": "code",
   "execution_count": null,
   "metadata": {},
   "outputs": [],
   "source": []
  },
  {
   "cell_type": "code",
   "execution_count": 65,
   "metadata": {},
   "outputs": [
    {
     "name": "stdout",
     "output_type": "stream",
     "text": [
      "[ 2023-11-22 20:43:06,137 ] INFO : utility - 20 - Read the yaml file from config/config.yaml\n",
      "[ 2023-11-22 20:43:06,139 ] INFO : utility - 20 - Read the yaml file from params.yaml\n",
      "[ 2023-11-22 20:43:06,139 ] INFO : utility - 31 - Created a directory on artifacts\n",
      "[ 2023-11-22 20:43:06,140 ] INFO : utility - 31 - Created a directory on artifacts/data_ingestion\n",
      "[ 2023-11-22 20:43:06,140 ] INFO : 3603411225 - 10 - Downloading dataset from https://drive.google.com/file/d/1k2QcmjA_35NwiUBV68lZPUXy-UUGEvJK/view?usp=share_link to local directory artifacts/data_ingestion/data.zip\n"
     ]
    },
    {
     "name": "stderr",
     "output_type": "stream",
     "text": [
      "Downloading...\n",
      "From (uriginal): https://drive.google.com/uc?/export=download&id=1k2QcmjA_35NwiUBV68lZPUXy-UUGEvJK\n",
      "From (redirected): https://drive.google.com/uc?/export=download&id=1k2QcmjA_35NwiUBV68lZPUXy-UUGEvJK&confirm=t&uuid=398fea47-e823-4ce0-8a47-886cc864a34f\n",
      "To: /Users/vishalchandru/MacBook/KidneyCNN/artifacts/data_ingestion/data.zip\n",
      "100%|██████████| 943M/943M [01:00<00:00, 15.5MB/s] "
     ]
    },
    {
     "name": "stdout",
     "output_type": "stream",
     "text": [
      "[ 2023-11-22 20:44:07,426 ] INFO : 3603411225 - 15 - Downloaded dataset from https://drive.google.com/file/d/1k2QcmjA_35NwiUBV68lZPUXy-UUGEvJK/view?usp=share_link to local directory artifacts/data_ingestion/data.zip\n"
     ]
    },
    {
     "name": "stderr",
     "output_type": "stream",
     "text": [
      "\n"
     ]
    }
   ],
   "source": [
    "try:\n",
    "    config = ConfigurationManager()\n",
    "    data_ingestion_config = config.get_data_ingestion_config()\n",
    "    data_ingestion = DataIngestion(config=data_ingestion_config)\n",
    "    data_ingestion.download_data()\n",
    "    data_ingestion.extract_zip_file()\n",
    "except Exception as e:\n",
    "    raise CustomException(e,sys)"
   ]
  },
  {
   "cell_type": "code",
   "execution_count": null,
   "metadata": {},
   "outputs": [],
   "source": []
  }
 ],
 "metadata": {
  "kernelspec": {
   "display_name": "Python 3",
   "language": "python",
   "name": "python3"
  },
  "language_info": {
   "codemirror_mode": {
    "name": "ipython",
    "version": 3
   },
   "file_extension": ".py",
   "mimetype": "text/x-python",
   "name": "python",
   "nbconvert_exporter": "python",
   "pygments_lexer": "ipython3",
   "version": "3.11.0"
  }
 },
 "nbformat": 4,
 "nbformat_minor": 2
}
